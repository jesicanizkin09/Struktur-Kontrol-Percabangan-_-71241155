{
 "cells": [
  {
   "cell_type": "code",
   "execution_count": 3,
   "id": "ca0e1d3b-72bb-4f86-ba11-8bd5680a27bd",
   "metadata": {},
   "outputs": [
    {
     "name": "stdin",
     "output_type": "stream",
     "text": [
      "Masukkan bulan (1-12):  13\n"
     ]
    },
    {
     "name": "stdout",
     "output_type": "stream",
     "text": [
      "Bulan yang dimasukkan tidak valid\n"
     ]
    }
   ],
   "source": [
    "bulan = int(input(\"Masukkan bulan (1-12): \"))\n",
    "tahun = 2020  \n",
    "\n",
    "if bulan < 1 or bulan > 12:\n",
    "    print(\"Bulan yang dimasukkan tidak valid\")\n",
    "else:\n",
    "    if bulan == 2:\n",
    "        if tahun % 4 == 0 and (tahun % 100 != 0 or tahun % 400 == 0):\n",
    "            jumlah_hari = 29\n",
    "        else:\n",
    "            jumlah_hari = 28\n",
    "    elif bulan in [4, 6, 9, 11]:\n",
    "        jumlah_hari = 30\n",
    "    else:\n",
    "        jumlah_hari = 31\n",
    "    print(\"Jumlah hari pada bulan\", bulan, \"adalah\", jumlah_hari)"
   ]
  },
  {
   "cell_type": "code",
   "execution_count": 5,
   "id": "34035f61-84df-4267-ae82-690e619c954f",
   "metadata": {},
   "outputs": [
    {
     "name": "stdin",
     "output_type": "stream",
     "text": [
      "Masukkan bulan (1-12):  7\n"
     ]
    },
    {
     "name": "stdout",
     "output_type": "stream",
     "text": [
      "Jumlah hari pada bulan 7 adalah 31\n"
     ]
    }
   ],
   "source": [
    "bulan = int(input(\"Masukkan bulan (1-12): \"))\n",
    "tahun = 2020  \n",
    "\n",
    "if bulan < 1 or bulan > 12:\n",
    "    print(\"Bulan yang dimasukkan tidak valid\")\n",
    "else:\n",
    "    if bulan == 2:\n",
    "        if tahun % 4 == 0 and (tahun % 100 != 0 or tahun % 400 == 0):\n",
    "            jumlah_hari = 29\n",
    "        else:\n",
    "            jumlah_hari = 28\n",
    "    elif bulan in [4, 6, 9, 11]:\n",
    "        jumlah_hari = 30\n",
    "    else:\n",
    "        jumlah_hari = 31\n",
    "    print(\"Jumlah hari pada bulan\", bulan, \"adalah\", jumlah_hari)"
   ]
  },
  {
   "cell_type": "code",
   "execution_count": 8,
   "id": "549c72f5-1ecd-4243-87f3-57425da0d876",
   "metadata": {},
   "outputs": [
    {
     "name": "stdin",
     "output_type": "stream",
     "text": [
      "Masukkan sisi 1:  14\n",
      "Masukkan sisi 2:  18\n",
      "Masukkan sisi 3:  11\n"
     ]
    },
    {
     "name": "stdout",
     "output_type": "stream",
     "text": [
      "Tidak ada yang sama\n"
     ]
    }
   ],
   "source": [
    "sisi1 = int(input(\"Masukkan sisi 1: \"))\n",
    "sisi2 = int(input(\"Masukkan sisi 2: \"))\n",
    "sisi3 = int(input(\"Masukkan sisi 3: \"))\n",
    "\n",
    "try:\n",
    "    if sisi1 == sisi2 == sisi3:\n",
    "        print(\"3 sisi sama\")\n",
    "    elif sisi1 == sisi2 or sisi1 == sisi3 or sisi2 == sisi3:\n",
    "        print(\"2 sisi sama\")\n",
    "    else:\n",
    "        print(\"Tidak ada yang sama\")\n",
    "except:\n",
    "    print(\"Sisinya harus berbentuk angka\")"
   ]
  },
  {
   "cell_type": "code",
   "execution_count": 10,
   "id": "19ef0c53-f9ce-44e9-bf74-f7436c50bf98",
   "metadata": {},
   "outputs": [
    {
     "name": "stdin",
     "output_type": "stream",
     "text": [
      "Masukkan sisi 1:  22\n",
      "Masukkan sisi 2:  22\n",
      "Masukkan sisi 3:  22\n"
     ]
    },
    {
     "name": "stdout",
     "output_type": "stream",
     "text": [
      "3 sisi sama\n"
     ]
    }
   ],
   "source": [
    "sisi1 = int(input(\"Masukkan sisi 1: \"))\n",
    "sisi2 = int(input(\"Masukkan sisi 2: \"))\n",
    "sisi3 = int(input(\"Masukkan sisi 3: \"))\n",
    "\n",
    "try:\n",
    "    if sisi1 == sisi2 == sisi3:\n",
    "        print(\"3 sisi sama\")\n",
    "    elif sisi1 == sisi2 or sisi1 == sisi3 or sisi2 == sisi3:\n",
    "        print(\"2 sisi sama\")\n",
    "    else:\n",
    "        print(\"Tidak ada yang sama\")\n",
    "except:\n",
    "    print(\"Sisinya harus berbentuk angka\")"
   ]
  },
  {
   "cell_type": "code",
   "execution_count": 12,
   "id": "85533809-cb22-4fc5-8c14-0d04d1d909c2",
   "metadata": {},
   "outputs": [
    {
     "name": "stdin",
     "output_type": "stream",
     "text": [
      "Masukkan sisi 1:  8\n",
      "Masukkan sisi 2:  9\n",
      "Masukkan sisi 3:  8\n"
     ]
    },
    {
     "name": "stdout",
     "output_type": "stream",
     "text": [
      "2 sisi sama\n"
     ]
    }
   ],
   "source": [
    "sisi1 = int(input(\"Masukkan sisi 1: \"))\n",
    "sisi2 = int(input(\"Masukkan sisi 2: \"))\n",
    "sisi3 = int(input(\"Masukkan sisi 3: \"))\n",
    "\n",
    "try:\n",
    "    if sisi1 == sisi2 == sisi3:\n",
    "        print(\"3 sisi sama\")\n",
    "    elif sisi1 == sisi2 or sisi1 == sisi3 or sisi2 == sisi3:\n",
    "        print(\"2 sisi sama\")\n",
    "    else:\n",
    "        print(\"Tidak ada yang sama\")\n",
    "except:\n",
    "    print(\"Sisinya harus berbentuk angka\")"
   ]
  },
  {
   "cell_type": "code",
   "execution_count": null,
   "id": "4236ee31-162d-4dc9-bdb7-a8d2ad107977",
   "metadata": {},
   "outputs": [],
   "source": []
  }
 ],
 "metadata": {
  "kernelspec": {
   "display_name": "anaconda-2024.02-py310",
   "language": "python",
   "name": "conda-env-anaconda-2024.02-py310-py"
  },
  "language_info": {
   "codemirror_mode": {
    "name": "ipython",
    "version": 3
   },
   "file_extension": ".py",
   "mimetype": "text/x-python",
   "name": "python",
   "nbconvert_exporter": "python",
   "pygments_lexer": "ipython3",
   "version": "3.10.14"
  }
 },
 "nbformat": 4,
 "nbformat_minor": 5
}
