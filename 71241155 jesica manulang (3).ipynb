{
 "cells": [
  {
   "cell_type": "code",
   "execution_count": 1,
   "id": "cba52ac6-c38d-4f31-a429-68feebb122a6",
   "metadata": {},
   "outputs": [
    {
     "name": "stdin",
     "output_type": "stream",
     "text": [
      "Silahkan masukkan suhu anda:  38\n"
     ]
    },
    {
     "name": "stdout",
     "output_type": "stream",
     "text": [
      "Tubuh anda tidak mengalami demam\n"
     ]
    }
   ],
   "source": [
    "suhu = int(input(\"Silahkan masukkan suhu anda: \"))\n",
    "try:\n",
    "    if suhu > 38:\n",
    "        print(\"Tubuh anda mengalami demam\")\n",
    "    elif suhu > 37.5:\n",
    "        print(\"Tubuh anda tidak mengalami demam\")\n",
    "except:\n",
    "    print(\"Suhu harus berbentuk angka\")"
   ]
  },
  {
   "cell_type": "code",
   "execution_count": 3,
   "id": "7c99b428-6901-400b-aacb-d660210cefba",
   "metadata": {},
   "outputs": [
    {
     "name": "stdin",
     "output_type": "stream",
     "text": [
      "Silahkan masukkan suatu bilangan:  100\n"
     ]
    },
    {
     "name": "stdout",
     "output_type": "stream",
     "text": [
      "Positif\n"
     ]
    }
   ],
   "source": [
    "bilangan = int(input(\"Silahkan masukkan suatu bilangan: \"))\n",
    "try:\n",
    "    if bilangan > 0:\n",
    "        print(\"Positif\")\n",
    "    elif bilangan < 0:\n",
    "        print(\"Negatif\")\n",
    "    elif bilangan == 0:\n",
    "        print(\"Nol\")\n",
    "except:\n",
    "    print(\"Masukkan suatu bilangan berbentuk angka\")"
   ]
  },
  {
   "cell_type": "code",
   "execution_count": 5,
   "id": "c736a1d9-7c08-4278-8fb7-4eb25446ed79",
   "metadata": {},
   "outputs": [
    {
     "name": "stdin",
     "output_type": "stream",
     "text": [
      "Silahkan masukkan suatu bilangan:  -100\n"
     ]
    },
    {
     "name": "stdout",
     "output_type": "stream",
     "text": [
      "Negatif\n"
     ]
    }
   ],
   "source": [
    "bilangan = int(input(\"Silahkan masukkan suatu bilangan: \"))\n",
    "try:\n",
    "    if bilangan > 0:\n",
    "        print(\"Positif\")\n",
    "    elif bilangan < 0:\n",
    "        print(\"Negatif\")\n",
    "    elif bilangan == 0:\n",
    "        print(\"Nol\")\n",
    "except:\n",
    "    print(\"Masukkan suatu bilangan berbentuk angka\")"
   ]
  },
  {
   "cell_type": "code",
   "execution_count": 7,
   "id": "79c3c3a9-53d1-4f59-a410-83d44de59357",
   "metadata": {},
   "outputs": [
    {
     "name": "stdin",
     "output_type": "stream",
     "text": [
      "Masukkan bilangan pertama:  40\n",
      "Masukkan bilangan kedua:  90\n",
      "Masukkan bilangan ketiga:  103\n"
     ]
    },
    {
     "name": "stdout",
     "output_type": "stream",
     "text": [
      "Terbesar:  103\n"
     ]
    }
   ],
   "source": [
    "a = int(input(\"Masukkan bilangan pertama: \"))\n",
    "b = int(input(\"Masukkan bilangan kedua: \"))\n",
    "c = int(input(\"Masukkan bilangan ketiga: \"))\n",
    "try:\n",
    "    if a > b and a > c:\n",
    "        print(\"Terbesar: \", a)\n",
    "    elif b > a and b > c:\n",
    "        print(\"Terbesar: \", b)\n",
    "    elif c > a and c > b:\n",
    "        print(\"Terbesar: \", c)\n",
    "except:\n",
    "    print(\"Masukkan bilangan terbesar harus berbentuk angka\")"
   ]
  },
  {
   "cell_type": "code",
   "execution_count": 13,
   "id": "4fc8dd72-04b4-4554-9cd1-8a3efd26aa5f",
   "metadata": {},
   "outputs": [
    {
     "name": "stdin",
     "output_type": "stream",
     "text": [
      "Masukkan suatu bilangan:  100\n"
     ]
    },
    {
     "name": "stdout",
     "output_type": "stream",
     "text": [
      "Positif\n"
     ]
    }
   ],
   "source": [
    "bilangan = int(input(\"Masukkan suatu bilangan: \"))\n",
    "\n",
    "hasil = \"Positif\" if bilangan > 0 else \"Negatif\" if bilangan < 0 else \"Nol\"\n",
    "\n",
    "print(hasil)"
   ]
  },
  {
   "cell_type": "code",
   "execution_count": null,
   "id": "c8a5ceba-b6c9-440c-a504-023061221c70",
   "metadata": {},
   "outputs": [],
   "source": []
  }
 ],
 "metadata": {
  "kernelspec": {
   "display_name": "anaconda-2024.02-py310",
   "language": "python",
   "name": "conda-env-anaconda-2024.02-py310-py"
  },
  "language_info": {
   "codemirror_mode": {
    "name": "ipython",
    "version": 3
   },
   "file_extension": ".py",
   "mimetype": "text/x-python",
   "name": "python",
   "nbconvert_exporter": "python",
   "pygments_lexer": "ipython3",
   "version": "3.10.14"
  }
 },
 "nbformat": 4,
 "nbformat_minor": 5
}
